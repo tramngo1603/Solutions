{
 "cells": [
  {
   "cell_type": "markdown",
   "metadata": {},
   "source": [
    "# Singly Linked List Cycle Check\n",
    "\n",
    "## Problem:\n",
    "\n",
    "Given a singly linked list, write a function which takes in the first node in a singly linked list and returns a boolean indicating if the linked list contains a \"cycle\".\n",
    "\n",
    "A cycle is when a node's next point actually points back to a previous node in the list. This is also sometimes known as a circularly linked list."
   ]
  },
  {
   "cell_type": "code",
   "execution_count": 9,
   "metadata": {},
   "outputs": [],
   "source": [
    "class LinkedListNode(object):\n",
    "        marker1 = object\n",
    "        marker2 = object\n",
    "        \n",
    "        def __init__(self,value):\n",
    "            self.value = value\n",
    "            self.nextnode = None\n",
    "            \n",
    "            while marker1 != '' and marker2 != '':\n",
    "                marker1 = marker1.nextnode\n",
    "                marker2 = marker2.nextnode.nextnode\n",
    "                \n",
    "                if marker1 == marker2:\n",
    "                    return True\n",
    "            return False"
   ]
  },
  {
   "cell_type": "code",
   "execution_count": null,
   "metadata": {},
   "outputs": [],
   "source": [
    "from nose.tools import assert_equal\n",
    "\n",
    "a = LinkedListNode(1)\n",
    "b = LinkedListNode(2)\n",
    "c = LinkedListNode(3)\n",
    "\n",
    "a.nextnode = b\n",
    "b.nextnode = c\n",
    "c.nextnode = a \n",
    "# This should return True\n",
    "\n",
    "\n",
    "x = LinkedListNode(1)\n",
    "y = LinkedListNode(2)\n",
    "z = LinkedListNode(3)\n",
    "\n",
    "x.nextnode = y\n",
    "y.nextnode = z\n",
    "# This should return False\n",
    "\n",
    "class TestSolution(object):\n",
    "    def Test(self,sol):\n",
    "        assert_equal(sol(a),True)\n",
    "        assert_equal(sol(x),False)\n",
    "        \n",
    "        print ('ALL CASES PASS TEST')"
   ]
  }
 ],
 "metadata": {
  "kernelspec": {
   "display_name": "Python 3",
   "language": "python",
   "name": "python3"
  },
  "language_info": {
   "codemirror_mode": {
    "name": "ipython",
    "version": 3
   },
   "file_extension": ".py",
   "mimetype": "text/x-python",
   "name": "python",
   "nbconvert_exporter": "python",
   "pygments_lexer": "ipython3",
   "version": "3.7.0"
  }
 },
 "nbformat": 4,
 "nbformat_minor": 2
}
