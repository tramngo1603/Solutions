{
 "cells": [
  {
   "cell_type": "markdown",
   "metadata": {},
   "source": [
    "## Exercise Question 4: Given a list iterate it and count the occurrence of each element and create a dictionary to show the count of each element"
   ]
  },
  {
   "cell_type": "code",
   "execution_count": 59,
   "metadata": {},
   "outputs": [],
   "source": [
    "def count_func(arr):\n",
    "    \n",
    "    my_set = set(arr)\n",
    "    my_list = list(my_set)\n",
    "    \n",
    "    if len(my_list) == len(arr):\n",
    "        \n",
    "    \n",
    "        for item in my_list: \n",
    "            count(arr,item) == 1\n",
    "            return '{} : {}'.format(item,count(arr,item))\n",
    "    \n",
    "    \n",
    "def count(myarr,x):\n",
    "    \n",
    "    my_count = 0\n",
    "    for item in myarr: \n",
    "        if item == x: \n",
    "            my_count += 1\n",
    "            \n",
    "    return my_count\n",
    "    \n",
    "    "
   ]
  },
  {
   "cell_type": "code",
   "execution_count": 60,
   "metadata": {},
   "outputs": [
    {
     "data": {
      "text/plain": [
       "'40 : 1'"
      ]
     },
     "execution_count": 60,
     "metadata": {},
     "output_type": "execute_result"
    }
   ],
   "source": [
    "count_func([10, 20, 30, 40, 50])"
   ]
  },
  {
   "cell_type": "code",
   "execution_count": null,
   "metadata": {},
   "outputs": [],
   "source": []
  }
 ],
 "metadata": {
  "kernelspec": {
   "display_name": "Python 3",
   "language": "python",
   "name": "python3"
  },
  "language_info": {
   "codemirror_mode": {
    "name": "ipython",
    "version": 3
   },
   "file_extension": ".py",
   "mimetype": "text/x-python",
   "name": "python",
   "nbconvert_exporter": "python",
   "pygments_lexer": "ipython3",
   "version": "3.7.0"
  }
 },
 "nbformat": 4,
 "nbformat_minor": 2
}
